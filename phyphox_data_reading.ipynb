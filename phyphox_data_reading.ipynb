{
 "cells": [
  {
   "cell_type": "markdown",
   "metadata": {},
   "source": [
    "### Lesen der von Phyphox exportierten Daten (CVS Format, Komma separiert)\n",
    "\n",
    "#### Pakete "
   ]
  },
  {
   "cell_type": "code",
   "execution_count": 2,
   "metadata": {},
   "outputs": [],
   "source": [
    "import numpy as np  # Math\n",
    "import pandas as pd # Data tables (\"frames\")\n",
    "import matplotlib.pyplot as plt # Plotting"
   ]
  },
  {
   "cell_type": "markdown",
   "metadata": {},
   "source": [
    "Daten einlesen mit Pandas"
   ]
  },
  {
   "cell_type": "code",
   "execution_count": 3,
   "metadata": {},
   "outputs": [],
   "source": [
    "df = pd.read_csv(\"Raw Data 3.csv\")"
   ]
  },
  {
   "cell_type": "markdown",
   "metadata": {},
   "source": [
    "Daten anzeigen"
   ]
  },
  {
   "cell_type": "code",
   "execution_count": 4,
   "metadata": {},
   "outputs": [
    {
     "data": {
      "text/html": [
       "<div>\n",
       "<style scoped>\n",
       "    .dataframe tbody tr th:only-of-type {\n",
       "        vertical-align: middle;\n",
       "    }\n",
       "\n",
       "    .dataframe tbody tr th {\n",
       "        vertical-align: top;\n",
       "    }\n",
       "\n",
       "    .dataframe thead th {\n",
       "        text-align: right;\n",
       "    }\n",
       "</style>\n",
       "<table border=\"1\" class=\"dataframe\">\n",
       "  <thead>\n",
       "    <tr style=\"text-align: right;\">\n",
       "      <th></th>\n",
       "      <th>Time (s)</th>\n",
       "      <th>Linear Acceleration x (m/s^2)</th>\n",
       "      <th>Linear Acceleration y (m/s^2)</th>\n",
       "      <th>Linear Acceleration z (m/s^2)</th>\n",
       "      <th>Absolute acceleration (m/s^2)</th>\n",
       "    </tr>\n",
       "  </thead>\n",
       "  <tbody>\n",
       "    <tr>\n",
       "      <td>0</td>\n",
       "      <td>0.000000</td>\n",
       "      <td>0.000000</td>\n",
       "      <td>0.000000</td>\n",
       "      <td>-0.000000</td>\n",
       "      <td>0.000000</td>\n",
       "    </tr>\n",
       "    <tr>\n",
       "      <td>1</td>\n",
       "      <td>0.005005</td>\n",
       "      <td>-0.003430</td>\n",
       "      <td>-0.008621</td>\n",
       "      <td>0.043249</td>\n",
       "      <td>0.044233</td>\n",
       "    </tr>\n",
       "    <tr>\n",
       "      <td>2</td>\n",
       "      <td>0.009979</td>\n",
       "      <td>0.022663</td>\n",
       "      <td>-0.001665</td>\n",
       "      <td>0.031457</td>\n",
       "      <td>0.038806</td>\n",
       "    </tr>\n",
       "    <tr>\n",
       "      <td>3</td>\n",
       "      <td>0.014984</td>\n",
       "      <td>0.001098</td>\n",
       "      <td>0.006451</td>\n",
       "      <td>0.066093</td>\n",
       "      <td>0.066417</td>\n",
       "    </tr>\n",
       "    <tr>\n",
       "      <td>4</td>\n",
       "      <td>0.019989</td>\n",
       "      <td>0.001253</td>\n",
       "      <td>0.015836</td>\n",
       "      <td>0.024492</td>\n",
       "      <td>0.029193</td>\n",
       "    </tr>\n",
       "    <tr>\n",
       "      <td>...</td>\n",
       "      <td>...</td>\n",
       "      <td>...</td>\n",
       "      <td>...</td>\n",
       "      <td>...</td>\n",
       "      <td>...</td>\n",
       "    </tr>\n",
       "    <tr>\n",
       "      <td>11882</td>\n",
       "      <td>59.439955</td>\n",
       "      <td>0.183505</td>\n",
       "      <td>-1.707361</td>\n",
       "      <td>-0.087492</td>\n",
       "      <td>1.719421</td>\n",
       "    </tr>\n",
       "    <tr>\n",
       "      <td>11883</td>\n",
       "      <td>59.444960</td>\n",
       "      <td>0.184883</td>\n",
       "      <td>-1.693180</td>\n",
       "      <td>-0.113727</td>\n",
       "      <td>1.707037</td>\n",
       "    </tr>\n",
       "    <tr>\n",
       "      <td>11884</td>\n",
       "      <td>59.449965</td>\n",
       "      <td>0.202679</td>\n",
       "      <td>-1.682343</td>\n",
       "      <td>-0.088715</td>\n",
       "      <td>1.696828</td>\n",
       "    </tr>\n",
       "    <tr>\n",
       "      <td>11885</td>\n",
       "      <td>59.454970</td>\n",
       "      <td>0.209667</td>\n",
       "      <td>-1.680805</td>\n",
       "      <td>-0.092429</td>\n",
       "      <td>1.696352</td>\n",
       "    </tr>\n",
       "    <tr>\n",
       "      <td>11886</td>\n",
       "      <td>59.459944</td>\n",
       "      <td>0.195273</td>\n",
       "      <td>-1.688406</td>\n",
       "      <td>-0.087850</td>\n",
       "      <td>1.701929</td>\n",
       "    </tr>\n",
       "  </tbody>\n",
       "</table>\n",
       "<p>11887 rows × 5 columns</p>\n",
       "</div>"
      ],
      "text/plain": [
       "        Time (s)  Linear Acceleration x (m/s^2)  \\\n",
       "0       0.000000                       0.000000   \n",
       "1       0.005005                      -0.003430   \n",
       "2       0.009979                       0.022663   \n",
       "3       0.014984                       0.001098   \n",
       "4       0.019989                       0.001253   \n",
       "...          ...                            ...   \n",
       "11882  59.439955                       0.183505   \n",
       "11883  59.444960                       0.184883   \n",
       "11884  59.449965                       0.202679   \n",
       "11885  59.454970                       0.209667   \n",
       "11886  59.459944                       0.195273   \n",
       "\n",
       "       Linear Acceleration y (m/s^2)  Linear Acceleration z (m/s^2)  \\\n",
       "0                           0.000000                      -0.000000   \n",
       "1                          -0.008621                       0.043249   \n",
       "2                          -0.001665                       0.031457   \n",
       "3                           0.006451                       0.066093   \n",
       "4                           0.015836                       0.024492   \n",
       "...                              ...                            ...   \n",
       "11882                      -1.707361                      -0.087492   \n",
       "11883                      -1.693180                      -0.113727   \n",
       "11884                      -1.682343                      -0.088715   \n",
       "11885                      -1.680805                      -0.092429   \n",
       "11886                      -1.688406                      -0.087850   \n",
       "\n",
       "       Absolute acceleration (m/s^2)  \n",
       "0                           0.000000  \n",
       "1                           0.044233  \n",
       "2                           0.038806  \n",
       "3                           0.066417  \n",
       "4                           0.029193  \n",
       "...                              ...  \n",
       "11882                       1.719421  \n",
       "11883                       1.707037  \n",
       "11884                       1.696828  \n",
       "11885                       1.696352  \n",
       "11886                       1.701929  \n",
       "\n",
       "[11887 rows x 5 columns]"
      ]
     },
     "execution_count": 4,
     "metadata": {},
     "output_type": "execute_result"
    }
   ],
   "source": [
    "df"
   ]
  },
  {
   "cell_type": "markdown",
   "metadata": {},
   "source": [
    "Graphische Darstellung"
   ]
  },
  {
   "cell_type": "code",
   "execution_count": 5,
   "metadata": {},
   "outputs": [
    {
     "data": {
      "text/plain": [
       "<matplotlib.axes._subplots.AxesSubplot at 0x7fb2c67a2390>"
      ]
     },
     "execution_count": 5,
     "metadata": {},
     "output_type": "execute_result"
    },
    {
     "data": {
      "image/png": "[encoded data removed]",
      "text/plain": [
       "<Figure size 432x288 with 1 Axes>"
      ]
     },
     "metadata": {
      "needs_background": "light"
     },
     "output_type": "display_data"
    }
   ],
   "source": [
    "df.plot(x=\"Time (s)\",y=\"Linear Acceleration y (m/s^2)\")"
   ]
  }
 ],
 "metadata": {
  "kernelspec": {
   "display_name": "Python 3",
   "language": "python",
   "name": "python3"
  },
  "language_info": {
   "codemirror_mode": {
    "name": "ipython",
    "version": 3
   },
   "file_extension": ".py",
   "mimetype": "text/x-python",
   "name": "python",
   "nbconvert_exporter": "python",
   "pygments_lexer": "ipython3",
   "version": "3.8.5"
  }
 },
 "nbformat": 4,
 "nbformat_minor": 4
}
