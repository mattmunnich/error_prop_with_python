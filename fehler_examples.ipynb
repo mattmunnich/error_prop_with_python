{
 "cells": [
  {
   "cell_type": "markdown",
   "metadata": {},
   "source": [
    "\n",
    "## Fehlerberechnung mit dem Uncertainties Paket\n",
    "#### Notwendige Pakete müssen zuvor importiert werden\n",
    "  - Uncertainties ufloat: Zahlen mit Fehler\n",
    "  - umath:  Für viele mathematische Funktionen sin, cos, exp, tan,... können Fehler berechnet werden\n",
    "  - numpy: Standard Numerik Paket"
   ]
  },
  {
   "cell_type": "code",
   "execution_count": 1,
   "metadata": {},
   "outputs": [],
   "source": [
    "from uncertainties import ufloat   # Basic uncertainties\n",
    "from uncertainties.umath import *  # math function\n",
    "import numpy as np  # Numerical Python package"
   ]
  },
  {
   "cell_type": "markdown",
   "metadata": {},
   "source": [
    "#### Beispiel 1: Pendelfrequenz\n",
    "Die Frequenz $f$ eines Pendels hängt für kleine Auslenkungen nur von dessn Länge $\\ell$ und der Erdbeschleunigung $g$ ab: \n",
    "$$ f = \\frac{1}{2\\pi}\\sqrt{\\frac{g}{\\ell}} $$\n",
    "\n",
    "Annahme Relativer Fehler: $\\delta\\ell=5\\%$\n",
    "Uncertainties berechnet immer absolute Fehler.  Wir nehmen als Beispiel $\\ell= 1.3$ m. "
   ]
  },
  {
   "cell_type": "code",
   "execution_count": 2,
   "metadata": {},
   "outputs": [
    {
     "name": "stdout",
     "output_type": "stream",
     "text": [
      "f = 0.437±0.011 [1/s]\n"
     ]
    }
   ],
   "source": [
    "l = ufloat(1.3, 1.3*0.05) # [m]\n",
    "g = 9.81 # [m/s^2]\n",
    "nu = 1/(2*np.pi) * sqrt(g/l) # [1/s]\n",
    "print((\"f = {:P} [1/s]\".format(nu)))"
   ]
  },
  {
   "cell_type": "markdown",
   "metadata": {},
   "source": [
    "------------\n",
    "#### Beispiel 2: Geschwindigkeit $v$\n",
    "Für die Geschwindigkeit gilt $ v = \\frac{s}{t} $, wobei $s$ für die zurückgelegte Strecke und $t$ die benötigte Zeit steht.\n",
    "\n",
    "Die relativen Fehler seien: $\\delta s = 4\\%$ , $\\delta t = 4\\%$. \n",
    "\n",
    "Annahme: $s = 30$m,  $t = 5$s."
   ]
  },
  {
   "cell_type": "code",
   "execution_count": 3,
   "metadata": {},
   "outputs": [
    {
     "name": "stdout",
     "output_type": "stream",
     "text": [
      "v = 6.00±0.30 [m/s]\n",
      "v = 6.0, Relativer Fehler: 5%\n"
     ]
    }
   ],
   "source": [
    "s = ufloat(30, 30*0.03)  # [m] \n",
    "t = ufloat(5, 5*0.04)    # [s]\n",
    "v = s/t # [m/s]\n",
    "\n",
    "print(\"v = {:P} [m/s]\".format(v))\n",
    "print(\"v = {}, Relativer Fehler: {:.0f}%\".format(v.n, v.s/v.n *100))"
   ]
  },
  {
   "cell_type": "markdown",
   "metadata": {},
   "source": [
    "-----------\n",
    "#### Beispiel 3: Gasdruck (ideale Gasgleichung)\n",
    "Es gilt $$ pV = nRT $$, mit Druck $ p $, Volumen $ V $, Molzahl $n$, Gaskonstante $R = 8.314$ [J/K/mol] und Temperatur $T$.\n",
    "\n"
   ]
  },
  {
   "cell_type": "code",
   "execution_count": 4,
   "metadata": {},
   "outputs": [],
   "source": [
    "def celsius2kelvin(t):\n",
    "    \"\"\"Convert degree Celsius to Kelvin\"\"\"\n",
    "    return t+273.15"
   ]
  },
  {
   "cell_type": "markdown",
   "metadata": {},
   "source": [
    "##### Die Messwerte und deren Fehler seien:  \n",
    "  - $V=100\\, \\mathrm{m}^3$, $\\delta V = 2\\%$\n",
    "  - $T=20\\,\\mathrm{C},\\qquad\\Delta T=0.5\\,\\mathrm{C}$\n",
    "  - Die Molzahl $n$ sei $n = 2.5$\n"
   ]
  },
  {
   "cell_type": "code",
   "execution_count": 5,
   "metadata": {},
   "outputs": [
    {
     "name": "stdout",
     "output_type": "stream",
     "text": [
      "p = 4.16±0.13 [Pa]\n"
     ]
    }
   ],
   "source": [
    "V = ufloat(100, 2)\n",
    "T = ufloat(20,0.5)\n",
    "n=2.5 # for example\n",
    "R=8.314 # [J/K/mol] gas constant\n",
    "p =  n * R * T / V\n",
    "\n",
    "print(\"p = {:P} [Pa]\".format(p))"
   ]
  },
  {
   "cell_type": "markdown",
   "metadata": {},
   "source": [
    "--------\n",
    "#### Beispiel 4: Brechungsgesetz\n",
    "Für den Brechungsindex $n$ gilt\n",
    "$$n = \\frac{\\sin\\alpha}{\\sin\\beta},$$ wobei $\\alpha$ und $\\beta$ die Einfalls- und Ausfallwinkel des Lichtstrahls bezeichnen."
   ]
  },
  {
   "cell_type": "code",
   "execution_count": 6,
   "metadata": {},
   "outputs": [],
   "source": [
    "def deg2rad(angle):\n",
    "    '''Convert degree  to radian'''\n",
    "    return angle*np.pi/180\n"
   ]
  },
  {
   "cell_type": "markdown",
   "metadata": {},
   "source": [
    " Für\n",
    "$$\\alpha = 45^\\circ \\pm 4^\\circ,\\qquad\\beta = 30^\\circ \\pm 4^\\circ$$ erhält man für $n$ und dessen Fehler"
   ]
  },
  {
   "cell_type": "code",
   "execution_count": 7,
   "metadata": {},
   "outputs": [
    {
     "name": "stdout",
     "output_type": "stream",
     "text": [
      "Brechungsindex mit Fehler: n = 1.41±0.20\n"
     ]
    }
   ],
   "source": [
    "alpha = ufloat(45, 4)\n",
    "beta = ufloat(30, 4)\n",
    "n=sin(deg2rad(alpha))/sin(deg2rad(beta)) # Remember: the arguments of sin, cos are in radian.\n",
    "print(\"Brechungsindex mit Fehler: n = {:P}\".format(n))"
   ]
  }
 ],
 "metadata": {
  "kernelspec": {
   "display_name": "Python 3",
   "language": "python",
   "name": "python3"
  },
  "language_info": {
   "codemirror_mode": {
    "name": "ipython",
    "version": 3
   },
   "file_extension": ".py",
   "mimetype": "text/x-python",
   "name": "python",
   "nbconvert_exporter": "python",
   "pygments_lexer": "ipython3",
   "version": "3.8.5"
  }
 },
 "nbformat": 4,
 "nbformat_minor": 4
}
